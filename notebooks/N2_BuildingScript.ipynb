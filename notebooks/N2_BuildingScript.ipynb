{
 "cells": [
  {
   "cell_type": "markdown",
   "id": "14a68695",
   "metadata": {},
   "source": [
    "# Scripts del Proyecto"
   ]
  },
  {
   "cell_type": "markdown",
   "id": "855aa060",
   "metadata": {},
   "source": [
    "### Script 1: Preparacion de datos para el entrenamiento"
   ]
  },
  {
   "cell_type": "code",
   "execution_count": 2,
   "id": "ff25ae1e",
   "metadata": {},
   "outputs": [],
   "source": [
    "import numpy as np \n",
    "import pandas as pd\n",
    "import warnings\n",
    "warnings.filterwarnings(\"ignore\")"
   ]
  },
  {
   "cell_type": "code",
   "execution_count": 28,
   "id": "1dc010f7",
   "metadata": {
    "id": "1dc010f7"
   },
   "outputs": [],
   "source": [
    "df = pd.read_csv(\"../data/raw/data.csv\")"
   ]
  },
  {
   "cell_type": "code",
   "execution_count": 29,
   "id": "a1c7dee9",
   "metadata": {
    "id": "a1c7dee9"
   },
   "outputs": [],
   "source": [
    "# Eliminar las primeras dos columnas con data innecesaria\n",
    "df.drop(df.iloc[:, [0,1]], axis=1, inplace=True)\n",
    "\n",
    "#  Columnas con valores categoricos pueden ser del tipo 'object' o 'int64'\n",
    "categorical_indexes = [0, 1, 3, 4] + list(range(6,20))\n",
    "df.iloc[:, categorical_indexes] = df.iloc[:, categorical_indexes].astype('category')\n",
    "\n",
    "# Como el porcentaje de los calores vacios es menor al 1% podriamos eliminar o reemplaxar por la mediana estos valores\n",
    "df = df.dropna()"
   ]
  },
  {
   "cell_type": "code",
   "execution_count": 30,
   "id": "253c983d",
   "metadata": {
    "id": "253c983d"
   },
   "outputs": [],
   "source": [
    "# Dividir la data en numerica y categorica\n",
    "numerical_columns = [c for c in df.columns if df[c].dtype.name != 'category']\n",
    "numerical_columns.remove('satisfaction')\n",
    "categorical_columns = [c for c in df.columns if df[c].dtype.name == 'category']\n",
    "df_describe = df.describe(include = ['category'])\n",
    "\n",
    "# Divir las columnas categoricas en binarias y no binarias\n",
    "binary_columns = [c for c in categorical_columns if df_describe[c]['unique'] == 2]\n",
    "nonbinary_columns = [c for c in categorical_columns if df_describe[c]['unique'] > 2]"
   ]
  },
  {
   "cell_type": "code",
   "execution_count": 31,
   "id": "a48b40fc",
   "metadata": {
    "id": "a48b40fc"
   },
   "outputs": [],
   "source": [
    "# Codificación\n",
    "original_df = df[binary_columns].copy()\n",
    "df[binary_columns] = df[binary_columns].astype('category').apply(lambda x: x.cat.codes)\n",
    "df[binary_columns] = df[binary_columns].astype('category')\n",
    "\n",
    "# Tabla de equivalencia\n",
    "list_transformation = []\n",
    "list_transformation = [(col, val, code) for col in binary_columns\n",
    "                                        for val, code in zip(original_df[col].unique(), df[col].unique())]\n",
    "\n",
    "df_transform = pd.DataFrame(list_transformation, columns=[\"Nombre columna\", \"Valor Original\", \"Categoria\"])"
   ]
  },
  {
   "cell_type": "code",
   "execution_count": 32,
   "id": "1b68d29e",
   "metadata": {
    "colab": {
     "base_uri": "https://localhost:8080/"
    },
    "id": "1b68d29e",
    "outputId": "e4391c4c-b0de-4415-9371-8a8a431ca517"
   },
   "outputs": [],
   "source": [
    "df_nonbinary = pd.get_dummies(df[nonbinary_columns])\n",
    "df_numerical = df[numerical_columns]\n",
    "df_numerical = (df_numerical - df_numerical.mean(axis = 0))/df_numerical.std(axis = 0)\n",
    "df_final = pd.concat((df_numerical, df_nonbinary, df[binary_columns], df['satisfaction']), axis = 1)"
   ]
  },
  {
   "cell_type": "code",
   "execution_count": 40,
   "id": "7e7ed6ee",
   "metadata": {},
   "outputs": [],
   "source": [
    "feature_nonbinary_columns = df_final.columns.to_list()\n",
    "df_columns = pd.DataFrame(feature_nonbinary_columns, columns=[\"Columns\"])\n",
    "df_columns.to_csv(\"../data/raw/columns_train.csv\", index=False)"
   ]
  },
  {
   "cell_type": "code",
   "execution_count": 41,
   "id": "57298aa2",
   "metadata": {},
   "outputs": [],
   "source": [
    "df_final.to_csv(\"../data/processed/data_train.csv\", index=False)"
   ]
  },
  {
   "cell_type": "markdown",
   "id": "42e3c44e",
   "metadata": {
    "id": "42e3c44e"
   },
   "source": [
    "### Script 2: Código de Entrenamiento"
   ]
  },
  {
   "cell_type": "code",
   "execution_count": 17,
   "id": "b592020a",
   "metadata": {},
   "outputs": [],
   "source": [
    "import numpy as np \n",
    "import pandas as pd\n",
    "import pickle\n",
    "import warnings\n",
    "\n",
    "from sklearn.model_selection import train_test_split\n",
    "from sklearn.neural_network import MLPClassifier\n",
    "\n",
    "warnings.filterwarnings(\"ignore\")"
   ]
  },
  {
   "cell_type": "code",
   "execution_count": 2,
   "id": "759d04d6",
   "metadata": {},
   "outputs": [],
   "source": [
    "df = pd.read_csv(\"../data/processed/data_train.csv\")"
   ]
  },
  {
   "cell_type": "code",
   "execution_count": 5,
   "id": "f292f554",
   "metadata": {
    "colab": {
     "base_uri": "https://localhost:8080/"
    },
    "id": "f292f554",
    "outputId": "33652ebc-d168-49fc-ae39-2a4d86229df3"
   },
   "outputs": [],
   "source": [
    "y = df['satisfaction']\n",
    "X = df.drop(['satisfaction'],axis=1)\n",
    "N, d = X.shape"
   ]
  },
  {
   "cell_type": "code",
   "execution_count": 6,
   "id": "kth3tpWFfzad",
   "metadata": {
    "colab": {
     "base_uri": "https://localhost:8080/"
    },
    "id": "kth3tpWFfzad",
    "outputId": "94eb0b44-d459-4258-8dda-2370b9faefa1"
   },
   "outputs": [
    {
     "data": {
      "text/plain": [
       "0         neutral or dissatisfied\n",
       "1         neutral or dissatisfied\n",
       "2                       satisfied\n",
       "3         neutral or dissatisfied\n",
       "4                       satisfied\n",
       "                   ...           \n",
       "103589    neutral or dissatisfied\n",
       "103590                  satisfied\n",
       "103591    neutral or dissatisfied\n",
       "103592    neutral or dissatisfied\n",
       "103593    neutral or dissatisfied\n",
       "Name: satisfaction, Length: 103594, dtype: object"
      ]
     },
     "execution_count": 6,
     "metadata": {},
     "output_type": "execute_result"
    }
   ],
   "source": [
    "y"
   ]
  },
  {
   "cell_type": "code",
   "execution_count": 8,
   "id": "LN4JgTFtZN-m",
   "metadata": {
    "colab": {
     "base_uri": "https://localhost:8080/"
    },
    "id": "LN4JgTFtZN-m",
    "outputId": "1e58ab32-6c90-4db6-f460-8088ac90d72e"
   },
   "outputs": [],
   "source": [
    "# Se obtiene el Target y las caracteristicas\n",
    "features = X.columns.tolist()"
   ]
  },
  {
   "cell_type": "code",
   "execution_count": 19,
   "id": "2f3a5b2a",
   "metadata": {
    "colab": {
     "base_uri": "https://localhost:8080/"
    },
    "id": "2f3a5b2a",
    "outputId": "56bc7654-2d6e-4053-88a3-f07dc42c3ff5"
   },
   "outputs": [
    {
     "data": {
      "text/plain": [
       "((3600, 93), (400, 93))"
      ]
     },
     "execution_count": 19,
     "metadata": {},
     "output_type": "execute_result"
    }
   ],
   "source": [
    "# Split Data\n",
    "X_train, X_test, y_train, y_test = train_test_split(X, y,\n",
    "                                                    train_size = 3600, test_size = 400,\n",
    "                                                    stratify = y, random_state = 2023)"
   ]
  },
  {
   "cell_type": "code",
   "execution_count": 28,
   "id": "83af92e5",
   "metadata": {},
   "outputs": [],
   "source": [
    "y_test.to_csv(\"../data/processed/target_validate.csv\", index=False)\n",
    "X_test.to_csv(\"../data/processed/features_validate.csv\", index=False)"
   ]
  },
  {
   "cell_type": "markdown",
   "id": "111c693f",
   "metadata": {
    "id": "111c693f"
   },
   "source": [
    "#### Modelo de Neural Network"
   ]
  },
  {
   "cell_type": "code",
   "execution_count": 20,
   "id": "HYc6ZrH9UN2q",
   "metadata": {
    "id": "HYc6ZrH9UN2q"
   },
   "outputs": [],
   "source": [
    "alpha_local_opt = 5.623413251903491\n",
    "hidden_layer_local_opt_1 = 40\n",
    "hidden_layer_local_opt_2 = 21"
   ]
  },
  {
   "cell_type": "code",
   "execution_count": 21,
   "id": "Ogm6VN2-IoNJ",
   "metadata": {
    "colab": {
     "base_uri": "https://localhost:8080/",
     "height": 146
    },
    "id": "Ogm6VN2-IoNJ",
    "outputId": "8921497c-1ad9-4e35-c635-1ddddc5cf022"
   },
   "outputs": [
    {
     "data": {
      "text/html": [
       "<style>#sk-container-id-1 {color: black;}#sk-container-id-1 pre{padding: 0;}#sk-container-id-1 div.sk-toggleable {background-color: white;}#sk-container-id-1 label.sk-toggleable__label {cursor: pointer;display: block;width: 100%;margin-bottom: 0;padding: 0.3em;box-sizing: border-box;text-align: center;}#sk-container-id-1 label.sk-toggleable__label-arrow:before {content: \"▸\";float: left;margin-right: 0.25em;color: #696969;}#sk-container-id-1 label.sk-toggleable__label-arrow:hover:before {color: black;}#sk-container-id-1 div.sk-estimator:hover label.sk-toggleable__label-arrow:before {color: black;}#sk-container-id-1 div.sk-toggleable__content {max-height: 0;max-width: 0;overflow: hidden;text-align: left;background-color: #f0f8ff;}#sk-container-id-1 div.sk-toggleable__content pre {margin: 0.2em;color: black;border-radius: 0.25em;background-color: #f0f8ff;}#sk-container-id-1 input.sk-toggleable__control:checked~div.sk-toggleable__content {max-height: 200px;max-width: 100%;overflow: auto;}#sk-container-id-1 input.sk-toggleable__control:checked~label.sk-toggleable__label-arrow:before {content: \"▾\";}#sk-container-id-1 div.sk-estimator input.sk-toggleable__control:checked~label.sk-toggleable__label {background-color: #d4ebff;}#sk-container-id-1 div.sk-label input.sk-toggleable__control:checked~label.sk-toggleable__label {background-color: #d4ebff;}#sk-container-id-1 input.sk-hidden--visually {border: 0;clip: rect(1px 1px 1px 1px);clip: rect(1px, 1px, 1px, 1px);height: 1px;margin: -1px;overflow: hidden;padding: 0;position: absolute;width: 1px;}#sk-container-id-1 div.sk-estimator {font-family: monospace;background-color: #f0f8ff;border: 1px dotted black;border-radius: 0.25em;box-sizing: border-box;margin-bottom: 0.5em;}#sk-container-id-1 div.sk-estimator:hover {background-color: #d4ebff;}#sk-container-id-1 div.sk-parallel-item::after {content: \"\";width: 100%;border-bottom: 1px solid gray;flex-grow: 1;}#sk-container-id-1 div.sk-label:hover label.sk-toggleable__label {background-color: #d4ebff;}#sk-container-id-1 div.sk-serial::before {content: \"\";position: absolute;border-left: 1px solid gray;box-sizing: border-box;top: 0;bottom: 0;left: 50%;z-index: 0;}#sk-container-id-1 div.sk-serial {display: flex;flex-direction: column;align-items: center;background-color: white;padding-right: 0.2em;padding-left: 0.2em;position: relative;}#sk-container-id-1 div.sk-item {position: relative;z-index: 1;}#sk-container-id-1 div.sk-parallel {display: flex;align-items: stretch;justify-content: center;background-color: white;position: relative;}#sk-container-id-1 div.sk-item::before, #sk-container-id-1 div.sk-parallel-item::before {content: \"\";position: absolute;border-left: 1px solid gray;box-sizing: border-box;top: 0;bottom: 0;left: 50%;z-index: -1;}#sk-container-id-1 div.sk-parallel-item {display: flex;flex-direction: column;z-index: 1;position: relative;background-color: white;}#sk-container-id-1 div.sk-parallel-item:first-child::after {align-self: flex-end;width: 50%;}#sk-container-id-1 div.sk-parallel-item:last-child::after {align-self: flex-start;width: 50%;}#sk-container-id-1 div.sk-parallel-item:only-child::after {width: 0;}#sk-container-id-1 div.sk-dashed-wrapped {border: 1px dashed gray;margin: 0 0.4em 0.5em 0.4em;box-sizing: border-box;padding-bottom: 0.4em;background-color: white;}#sk-container-id-1 div.sk-label label {font-family: monospace;font-weight: bold;display: inline-block;line-height: 1.2em;}#sk-container-id-1 div.sk-label-container {text-align: center;}#sk-container-id-1 div.sk-container {/* jupyter's `normalize.less` sets `[hidden] { display: none; }` but bootstrap.min.css set `[hidden] { display: none !important; }` so we also need the `!important` here to be able to override the default hidden behavior on the sphinx rendered scikit-learn.org. See: https://github.com/scikit-learn/scikit-learn/issues/21755 */display: inline-block !important;position: relative;}#sk-container-id-1 div.sk-text-repr-fallback {display: none;}</style><div id=\"sk-container-id-1\" class=\"sk-top-container\"><div class=\"sk-text-repr-fallback\"><pre>MLPClassifier(activation=&#x27;logistic&#x27;, alpha=5.623413251903491,\n",
       "              hidden_layer_sizes=(40, 21), max_iter=1000, random_state=42,\n",
       "              solver=&#x27;lbfgs&#x27;)</pre><b>In a Jupyter environment, please rerun this cell to show the HTML representation or trust the notebook. <br />On GitHub, the HTML representation is unable to render, please try loading this page with nbviewer.org.</b></div><div class=\"sk-container\" hidden><div class=\"sk-item\"><div class=\"sk-estimator sk-toggleable\"><input class=\"sk-toggleable__control sk-hidden--visually\" id=\"sk-estimator-id-1\" type=\"checkbox\" checked><label for=\"sk-estimator-id-1\" class=\"sk-toggleable__label sk-toggleable__label-arrow\">MLPClassifier</label><div class=\"sk-toggleable__content\"><pre>MLPClassifier(activation=&#x27;logistic&#x27;, alpha=5.623413251903491,\n",
       "              hidden_layer_sizes=(40, 21), max_iter=1000, random_state=42,\n",
       "              solver=&#x27;lbfgs&#x27;)</pre></div></div></div></div></div>"
      ],
      "text/plain": [
       "MLPClassifier(activation='logistic', alpha=5.623413251903491,\n",
       "              hidden_layer_sizes=(40, 21), max_iter=1000, random_state=42,\n",
       "              solver='lbfgs')"
      ]
     },
     "execution_count": 21,
     "metadata": {},
     "output_type": "execute_result"
    }
   ],
   "source": [
    "# Se corre el modelo con los hiperparametros optimos y se corre con la data para ver los resultados estadisticos del modelo.\n",
    "mlp_model = MLPClassifier(alpha = alpha_local_opt,\n",
    "                          hidden_layer_sizes = (hidden_layer_local_opt_1, hidden_layer_local_opt_2),\n",
    "                          solver = 'lbfgs',\n",
    "                          max_iter = 1000,\n",
    "                          activation = 'logistic',\n",
    "                          random_state = 42)\n",
    "\n",
    "mlp_model.fit(X_train, y_train)"
   ]
  },
  {
   "cell_type": "code",
   "execution_count": 22,
   "id": "11348929",
   "metadata": {},
   "outputs": [],
   "source": [
    "# Save Best Model\n",
    "filename = '../models/best_model.pkl'\n",
    "pickle.dump(mlp_model, open(filename, 'wb'))"
   ]
  },
  {
   "cell_type": "markdown",
   "id": "eS0eKa9GhwLY",
   "metadata": {
    "id": "eS0eKa9GhwLY"
   },
   "source": [
    "### Script 4: Código de Validación"
   ]
  },
  {
   "cell_type": "code",
   "execution_count": 11,
   "id": "969af45b",
   "metadata": {},
   "outputs": [],
   "source": [
    "import numpy as np\n",
    "import pandas as pd\n",
    "import pickle\n",
    "import warnings\n",
    "\n",
    "from sklearn.metrics import roc_auc_score, \\\n",
    "                            accuracy_score, \\\n",
    "                            f1_score, \\\n",
    "                            precision_score, \\\n",
    "                            recall_score, \\\n",
    "                            classification_report, \\\n",
    "                            confusion_matrix\n",
    "\n",
    "warnings.filterwarnings(\"ignore\")"
   ]
  },
  {
   "cell_type": "code",
   "execution_count": 7,
   "id": "947a16e0",
   "metadata": {},
   "outputs": [],
   "source": [
    "y_test = pd.read_csv(\"../data/processed/target_validate.csv\")\n",
    "X_test = pd.read_csv(\"../data/processed/features_validate.csv\")\n",
    "features=X_test.columns.tolist()"
   ]
  },
  {
   "cell_type": "code",
   "execution_count": 8,
   "id": "280ee37c",
   "metadata": {},
   "outputs": [],
   "source": [
    "filename = '../models/best_model.pkl'\n",
    "model = pickle.load(open(filename, 'rb'))"
   ]
  },
  {
   "cell_type": "code",
   "execution_count": 9,
   "id": "0HwD_nmmKbgi",
   "metadata": {
    "id": "0HwD_nmmKbgi"
   },
   "outputs": [],
   "source": [
    "# Usando el modelo para predecir\n",
    "\n",
    "X_test['probability']  = model.predict_proba(X_test[features])[:,1]\n",
    "X_test['prediction']  = model.predict(X_test[features])"
   ]
  },
  {
   "cell_type": "code",
   "execution_count": 16,
   "id": "R6vyEo4ZY2Kh",
   "metadata": {
    "colab": {
     "base_uri": "https://localhost:8080/",
     "height": 237
    },
    "id": "R6vyEo4ZY2Kh",
    "outputId": "647b2ee2-59d6-439c-84e7-6cef5926a01f"
   },
   "outputs": [],
   "source": [
    "#Resumen de todas las métricas del modelo\n",
    "metricsRfc = pd.DataFrame({'metric':['AUC','Gini','Accuracy','Precision','Recall','F1-score'],\n",
    "                                'nn_test':[roc_auc_score(y_test, X_test.probability),\n",
    "                                        (roc_auc_score(y_test, X_test.probability)*2-1),\n",
    "                                        accuracy_score(y_test, X_test.prediction),\n",
    "                                        precision_score(y_test, X_test.prediction, pos_label='satisfied'),\n",
    "                                        recall_score(y_test, X_test.prediction, pos_label='satisfied'),\n",
    "                                        f1_score(y_test, X_test.prediction, pos_label='satisfied')]})"
   ]
  },
  {
   "cell_type": "code",
   "execution_count": 17,
   "id": "nDxTPHPsY1h7",
   "metadata": {
    "id": "nDxTPHPsY1h7"
   },
   "outputs": [
    {
     "name": "stdout",
     "output_type": "stream",
     "text": [
      "[[215  12]\n",
      " [ 12 161]]\n",
      "      metric   nn_test\n",
      "0        AUC  0.990120\n",
      "1       Gini  0.980240\n",
      "2   Accuracy  0.940000\n",
      "3  Precision  0.930636\n",
      "4     Recall  0.930636\n",
      "5   F1-score  0.930636\n"
     ]
    }
   ],
   "source": [
    "print(confusion_matrix(y_test, X_test.prediction))\n",
    "print(metricsRfc)"
   ]
  },
  {
   "cell_type": "markdown",
   "id": "81f06e26",
   "metadata": {},
   "source": [
    "### Script 5: Preparación de Datos de Score (Automatización)"
   ]
  },
  {
   "cell_type": "code",
   "execution_count": 1,
   "id": "4dfdcb16",
   "metadata": {},
   "outputs": [],
   "source": [
    "import numpy as np \n",
    "import pandas as pd\n",
    "import warnings\n",
    "warnings.filterwarnings(\"ignore\")"
   ]
  },
  {
   "cell_type": "code",
   "execution_count": 42,
   "id": "218c2e14",
   "metadata": {},
   "outputs": [],
   "source": [
    "df = pd.read_csv(\"../data/raw/data_score.csv\")\n",
    "columns_all = pd.read_csv(\"../data/raw/columns_train.csv\")"
   ]
  },
  {
   "cell_type": "code",
   "execution_count": 43,
   "id": "5e65627a",
   "metadata": {},
   "outputs": [],
   "source": [
    "# Eliminar las primeras dos columnas con data innecesaria\n",
    "df.drop(df.iloc[:, [0,1]], axis=1, inplace=True)\n",
    "\n",
    "#  Columnas con valores categoricos pueden ser del tipo 'object' o 'int64'\n",
    "categorical_indexes = [0, 1, 3, 4] + list(range(6,20))\n",
    "df.iloc[:, categorical_indexes] = df.iloc[:, categorical_indexes].astype('category')\n",
    "\n",
    "# Como el porcentaje de los calores vacios es menor al 1% podriamos eliminar o reemplaxar por la mediana estos valores\n",
    "df = df.dropna()"
   ]
  },
  {
   "cell_type": "code",
   "execution_count": 44,
   "id": "32979028",
   "metadata": {
    "scrolled": true
   },
   "outputs": [],
   "source": [
    "# Dividir la data en numerica y categorica\n",
    "numerical_columns = [c for c in df.columns if df[c].dtype.name != 'category']\n",
    "numerical_columns.remove('satisfaction')\n",
    "categorical_columns = [c for c in df.columns if df[c].dtype.name == 'category']\n",
    "df_describe = df.describe(include = ['category'])\n",
    "\n",
    "# Divir las columnas categoricas en binarias y no binarias\n",
    "binary_columns = [c for c in categorical_columns if df_describe[c]['unique'] == 2]\n",
    "nonbinary_columns = [c for c in categorical_columns if df_describe[c]['unique'] > 2]"
   ]
  },
  {
   "cell_type": "code",
   "execution_count": 45,
   "id": "3c7192f9",
   "metadata": {},
   "outputs": [],
   "source": [
    "# Codificación\n",
    "original_df = df[binary_columns].copy()\n",
    "df[binary_columns] = df[binary_columns].astype('category').apply(lambda x: x.cat.codes)\n",
    "df[binary_columns] = df[binary_columns].astype('category')\n",
    "\n",
    "# Tabla de equivalencia\n",
    "list_transformation = []\n",
    "list_transformation = [(col, val, code) for col in binary_columns\n",
    "                                        for val, code in zip(original_df[col].unique(), df[col].unique())]\n",
    "\n",
    "df_transform = pd.DataFrame(list_transformation, columns=[\"Nombre columna\", \"Valor Original\", \"Categoria\"])"
   ]
  },
  {
   "cell_type": "code",
   "execution_count": 46,
   "id": "0f8ea671",
   "metadata": {},
   "outputs": [],
   "source": [
    "df_nonbinary = pd.get_dummies(df[nonbinary_columns])\n",
    "df_numerical = df[numerical_columns]\n",
    "df_numerical = (df_numerical - df_numerical.mean(axis = 0))/df_numerical.std(axis = 0)\n",
    "df_final = pd.concat((df_numerical, df_nonbinary, df[binary_columns], df['satisfaction']), axis = 1)"
   ]
  },
  {
   "cell_type": "code",
   "execution_count": 63,
   "id": "16ee823e",
   "metadata": {},
   "outputs": [],
   "source": [
    "columns_now = df_final.columns.to_list()\n",
    "for column in columns_all[\"Columns\"]:\n",
    "    if column not in columns_now:\n",
    "       df_final[column] = 0\n",
    "    \n",
    "columns = columns_all[\"Columns\"].to_list()\n",
    "df_final = df_final[columns]\n",
    "df_final = df_final.drop(['satisfaction'],axis=1)"
   ]
  },
  {
   "cell_type": "code",
   "execution_count": 64,
   "id": "7ff7d9e9",
   "metadata": {},
   "outputs": [],
   "source": [
    "df_final.to_csv(\"../data/processed/data_score.csv\", index=False)"
   ]
  },
  {
   "cell_type": "markdown",
   "id": "23979389",
   "metadata": {},
   "source": [
    "### Scipt 6: Código de Scoring (Automatización)"
   ]
  },
  {
   "cell_type": "code",
   "execution_count": 65,
   "id": "8bc428a5",
   "metadata": {},
   "outputs": [],
   "source": [
    "import numpy as np\n",
    "import pandas as pd\n",
    "import pickle\n",
    "import warnings\n",
    "\n",
    "warnings.filterwarnings(\"ignore\")"
   ]
  },
  {
   "cell_type": "code",
   "execution_count": 66,
   "id": "ba123051",
   "metadata": {},
   "outputs": [],
   "source": [
    "df = pd.read_csv(\"../data/processed/data_score.csv\")\n",
    "columns_all = pd.read_csv(\"../data/raw/columns_train.csv\")"
   ]
  },
  {
   "cell_type": "code",
   "execution_count": 67,
   "id": "3ae761a2",
   "metadata": {},
   "outputs": [],
   "source": [
    "filename = '../models/best_model.pkl'\n",
    "model = pickle.load(open(filename, 'rb'))"
   ]
  },
  {
   "cell_type": "code",
   "execution_count": 68,
   "id": "a908527d",
   "metadata": {},
   "outputs": [],
   "source": [
    "scores=model.predict(df).reshape(-1,1)"
   ]
  },
  {
   "cell_type": "code",
   "execution_count": 71,
   "id": "9cba7bd0",
   "metadata": {},
   "outputs": [],
   "source": [
    "# Exportamos el resultado del modelo para cargarlo en el Feature Store o Data Mart de Modelos\n",
    "# Le asignamos nombres a las columnas\n",
    "df_score = pd.DataFrame(scores, columns=['PREDICT'])\n",
    "# Exportamos la solucion\n",
    "df_score.to_csv('../data/scores/final_score.csv')"
   ]
  }
 ],
 "metadata": {
  "colab": {
   "provenance": []
  },
  "kernelspec": {
   "display_name": "Python 3 (ipykernel)",
   "language": "python",
   "name": "python3"
  },
  "language_info": {
   "codemirror_mode": {
    "name": "ipython",
    "version": 3
   },
   "file_extension": ".py",
   "mimetype": "text/x-python",
   "name": "python",
   "nbconvert_exporter": "python",
   "pygments_lexer": "ipython3",
   "version": "3.9.12"
  }
 },
 "nbformat": 4,
 "nbformat_minor": 5
}
